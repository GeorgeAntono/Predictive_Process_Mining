{
 "cells": [
  {
   "cell_type": "code",
   "execution_count": 1,
   "metadata": {},
   "outputs": [],
   "source": [
    "# import libraries\n",
    "import pm4py\n",
    "import editdistance\n",
    "import pandas as pd\n",
    "from label_functions import *"
   ]
  },
  {
   "cell_type": "code",
   "execution_count": 3,
   "metadata": {},
   "outputs": [
    {
     "data": {
      "application/vnd.jupyter.widget-view+json": {
       "model_id": "db10410bc9034923b51f9919dadb017c",
       "version_major": 2,
       "version_minor": 0
      },
      "text/plain": [
       "parsing log, completed traces ::   0%|          | 0/1143 [00:00<?, ?it/s]"
      ]
     },
     "metadata": {},
     "output_type": "display_data"
    },
    {
     "name": "stdout",
     "output_type": "stream",
     "text": [
      "Start activities: {'1e consult poliklinisch': 71, 'inwend.geneesk.  korte kaart kosten-out': 8, 'verlosk.-gynaec. korte kaart kosten-out': 198, 'vervolgconsult poliklinisch': 234, 'verlosk.-gynaec.   jaarkaart kosten-out': 122, 'cytologisch onderzoek - ectocervix -': 28, 'echografie  - genitalia interna': 44, 'aanname laboratoriumonderzoek': 225, 'ligdagen - alle spec.beh.kinderg.-reval.': 39, 'telefonisch consult': 15, 'behandeltijd - eenheid t3 - megavolt': 1, 'ct abdomen': 2, 'behandeltijd - eenheid t2 - megavolt': 1, 'thorax': 12, 'e.c.g.      - elektrocardiografie': 63, 'cytologisch onderzoek - vagina -': 12, 'mammografie thoraxwand': 3, 'histologisch onderzoek - biopten nno': 19, 'dagverpleging - alle spec.beh.kind.-rev.': 5, 'inwend.geneesk.    jaarkaart kosten-out': 1, 'coupe ter inzage': 19, 'immunopathologisch onderzoek': 10, 'vagina      - scopie incl.evt.vulvabiops': 3, 'punctie tbv cytologisch onderzoek door p': 3, 'cytologisch onderzoek - buiktumorpunctie': 1, 'vrw.gesl.org- adnex-extirpatie dmv lapar': 1, 'cytologisch onderzoek tbv bevolkingsonde': 1, 'buik        - punctie ascites ontlastend': 1, 'cytologisch onderzoek - endocervix -': 1}\n",
      "End activities: {'ordertarief': 20, '1e consult poliklinisch': 4, 'telefonisch consult': 200, 'vervolgconsult poliklinisch': 365, 'skelet - scintigrafie totale lichaam': 1, 'administratief tarief       - eerste pol': 336, '190101 bovenreg.toesl.  a101': 94, 'teletherapie - megavolt fotonen bestrali': 8, '190035 dagverpleging    a007': 9, '190205 klasse 3b        a205': 42, 'gefiltreerd erytrocytenconcentraat': 6, '190204 klasse 3a        a204': 4, 'mri abdomen': 4, 'paclitaxel': 1, 'echografie a vue ivw zwangerschap - met': 1, 'ct abdomen': 18, 'echo bovenbuik': 2, 'dieet nno': 1, '1e consult      bezoek': 3, 'klinische kaart - verloskunde en gynaeco': 1, 'ligdagen - alle spec.beh.kinderg.-reval.': 1, 'nieren - renografie lasix': 1, 'coupe ter inzage': 4, 'nucleair onderzoek van elders': 1, 'cytologisch onderzoek - endocervix -': 1, 'patient niet verschenen radiologie': 2, 'cito histologisch onderzoek': 3, 'thorax': 1, 'afereseplasma gesplitst fq1 en fq2': 1, 'vrw.gesl.org- adnex-extirpatie dmv lapar': 1, 'hyperthermie': 1, 'histologisch onderzoek - biopten nno': 2, 'echo nieren-urinewegen': 2, 'echo hals --waaronder schildklier--': 1, 'interc.consult klinisch  radiotherapie': 1}\n"
     ]
    }
   ],
   "source": [
    "# import data\n",
    "def import_xes(file_path):\n",
    "    event_log = pm4py.read_xes(file_path)\n",
    "    start_activities = pm4py.get_start_activities(event_log)\n",
    "    end_activities = pm4py.get_end_activities(event_log)\n",
    "    print(\"Start activities: {}\\nEnd activities: {}\".format(start_activities, end_activities))\n",
    "    return event_log\n",
    "\n",
    "event_log = import_xes(\"data/Hospital_log.xes.gz\")"
   ]
  },
  {
   "cell_type": "code",
   "execution_count": 4,
   "metadata": {},
   "outputs": [],
   "source": [
    "# convert all activity codes to strings\n",
    "event_log['Activity code'] = event_log['Activity code'].astype(str)\n",
    "\n",
    "# get all traces\n",
    "all_traces = event_log.groupby('case:concept:name')['Activity code'].apply(list)"
   ]
  },
  {
   "cell_type": "code",
   "execution_count": 112,
   "metadata": {},
   "outputs": [],
   "source": [
    "# def get_similar_traces(running_trace, traces, threshold=40):\n",
    "    \n",
    "#     # convert running trace to list if it is a series\n",
    "#     if isinstance(running_trace, pd.Series):\n",
    "#         running_trace = running_trace.iloc[0]\n",
    "    \n",
    "#     # find similar traces\n",
    "#     similar_traces = []\n",
    "#     for case, activities in traces.items():\n",
    "#         distance = editdistance.eval(running_trace, activities)\n",
    "#         if distance <= threshold:\n",
    "#             similar_traces.append((case, distance))\n",
    "#     return dict(similar_traces)"
   ]
  },
  {
   "cell_type": "code",
   "execution_count": 6,
   "metadata": {},
   "outputs": [],
   "source": [
    "def get_similarity(running_trace, traces, similarity=True):\n",
    "    '''\n",
    "    Calculate edit distances between running trace and all traces in the log.\n",
    "    Convert to similarity score if similarity=True.\n",
    "    '''\n",
    "    # convert running trace to list if it is a series\n",
    "    if isinstance(running_trace, pd.Series):\n",
    "        running_trace = running_trace.iloc[0]\n",
    "    \n",
    "    # calculate edit distances\n",
    "    str_edit_dist = []\n",
    "    for case, activities in traces.items():\n",
    "        distance = editdistance.eval(running_trace, activities)\n",
    "        if similarity:\n",
    "            similarity_score = 1 - distance / max(len(running_trace), len(activities))\n",
    "            str_edit_dist.append((case, similarity_score))\n",
    "        else:\n",
    "            str_edit_dist.append((case, distance))\n",
    "    return dict(str_edit_dist)"
   ]
  },
  {
   "cell_type": "code",
   "execution_count": 24,
   "metadata": {},
   "outputs": [],
   "source": [
    "# sample random trace\n",
    "running_trace = all_traces.sample(1)\n",
    "historic_traces = all_traces.drop(running_trace.index)\n",
    "\n",
    "# TODO: prefix extraction of historic traces?\n",
    "\n",
    "# calculate similarity scores\n",
    "similarity_scores = get_similarity(running_trace, historic_traces, similarity=True)\n",
    "\n",
    "# get n most similar traces\n",
    "n = 100\n",
    "sorted_similar_traces = sorted(similarity_scores.items(), key=lambda x: x[1], reverse=True)\n",
    "most_similar_traces = sorted_similar_traces[:n]"
   ]
  },
  {
   "cell_type": "code",
   "execution_count": 8,
   "metadata": {},
   "outputs": [],
   "source": [
    "# # sample random trace\n",
    "# running_trace = all_traces.sample(1)\n",
    "# historic_traces = all_traces.drop(running_trace.index)\n",
    "\n",
    "# # get similar traces\n",
    "# similar_traces = get_similar_traces(running_trace, historic_traces, threshold=80)\n",
    "# print(len(similar_traces))"
   ]
  },
  {
   "cell_type": "code",
   "execution_count": 25,
   "metadata": {},
   "outputs": [
    {
     "name": "stdout",
     "output_type": "stream",
     "text": [
      "44 out of 100 traces are positive\n"
     ]
    }
   ],
   "source": [
    "similar_traces_list = [x[0] for x in most_similar_traces]\n",
    "lf_map = get_lf_map(event_log, label_function_1)\n",
    "y_train = [lf_map[trace] for trace in similar_traces_list]\n",
    "\n",
    "print(f'{sum(y_train)} out of {len(y_train)} traces are positive')"
   ]
  },
  {
   "cell_type": "code",
   "execution_count": 12,
   "metadata": {},
   "outputs": [
    {
     "data": {
      "text/html": [
       "<div>\n",
       "<style scoped>\n",
       "    .dataframe tbody tr th:only-of-type {\n",
       "        vertical-align: middle;\n",
       "    }\n",
       "\n",
       "    .dataframe tbody tr th {\n",
       "        vertical-align: top;\n",
       "    }\n",
       "\n",
       "    .dataframe thead th {\n",
       "        text-align: right;\n",
       "    }\n",
       "</style>\n",
       "<table border=\"1\" class=\"dataframe\">\n",
       "  <thead>\n",
       "    <tr style=\"text-align: right;\">\n",
       "      <th></th>\n",
       "      <th>case:Diagnosis code:2</th>\n",
       "      <th>case:Diagnosis code:1</th>\n",
       "      <th>case:Diagnosis:2</th>\n",
       "      <th>case:Diagnosis:1</th>\n",
       "      <th>case:Diagnosis</th>\n",
       "      <th>case:Diagnosis Treatment Combination ID</th>\n",
       "      <th>case:Diagnosis Treatment Combination ID:2</th>\n",
       "      <th>case:Diagnosis code</th>\n",
       "      <th>case:Diagnosis Treatment Combination ID:1</th>\n",
       "      <th>case:Diagnosis code:3</th>\n",
       "      <th>...</th>\n",
       "      <th>case:Diagnosis Treatment Combination ID:15</th>\n",
       "      <th>case:Diagnosis Treatment Combination ID:14</th>\n",
       "      <th>case:Diagnosis:15</th>\n",
       "      <th>case:Diagnosis:14</th>\n",
       "      <th>case:Diagnosis:11</th>\n",
       "      <th>case:Diagnosis:13</th>\n",
       "      <th>case:Diagnosis:12</th>\n",
       "      <th>case:Diagnosis code:14</th>\n",
       "      <th>case:Diagnosis code:13</th>\n",
       "      <th>case:Diagnosis code:15</th>\n",
       "    </tr>\n",
       "  </thead>\n",
       "  <tbody>\n",
       "    <tr>\n",
       "      <th>30895</th>\n",
       "      <td>NaN</td>\n",
       "      <td>NaN</td>\n",
       "      <td>NaN</td>\n",
       "      <td>NaN</td>\n",
       "      <td>maligniteit vulva</td>\n",
       "      <td>238446.0</td>\n",
       "      <td>NaN</td>\n",
       "      <td>M11</td>\n",
       "      <td>NaN</td>\n",
       "      <td>NaN</td>\n",
       "      <td>...</td>\n",
       "      <td>NaN</td>\n",
       "      <td>NaN</td>\n",
       "      <td>NaN</td>\n",
       "      <td>NaN</td>\n",
       "      <td>NaN</td>\n",
       "      <td>NaN</td>\n",
       "      <td>NaN</td>\n",
       "      <td>NaN</td>\n",
       "      <td>NaN</td>\n",
       "      <td>NaN</td>\n",
       "    </tr>\n",
       "  </tbody>\n",
       "</table>\n",
       "<p>1 rows × 48 columns</p>\n",
       "</div>"
      ],
      "text/plain": [
       "      case:Diagnosis code:2 case:Diagnosis code:1 case:Diagnosis:2  \\\n",
       "30895                   NaN                   NaN              NaN   \n",
       "\n",
       "      case:Diagnosis:1     case:Diagnosis  \\\n",
       "30895              NaN  maligniteit vulva   \n",
       "\n",
       "       case:Diagnosis Treatment Combination ID  \\\n",
       "30895                                 238446.0   \n",
       "\n",
       "       case:Diagnosis Treatment Combination ID:2 case:Diagnosis code  \\\n",
       "30895                                        NaN                 M11   \n",
       "\n",
       "       case:Diagnosis Treatment Combination ID:1 case:Diagnosis code:3  ...  \\\n",
       "30895                                        NaN                   NaN  ...   \n",
       "\n",
       "      case:Diagnosis Treatment Combination ID:15  \\\n",
       "30895                                        NaN   \n",
       "\n",
       "       case:Diagnosis Treatment Combination ID:14 case:Diagnosis:15  \\\n",
       "30895                                         NaN               NaN   \n",
       "\n",
       "      case:Diagnosis:14  case:Diagnosis:11 case:Diagnosis:13  \\\n",
       "30895               NaN                NaN               NaN   \n",
       "\n",
       "      case:Diagnosis:12  case:Diagnosis code:14  case:Diagnosis code:13  \\\n",
       "30895               NaN                     NaN                     NaN   \n",
       "\n",
       "       case:Diagnosis code:15  \n",
       "30895                     NaN  \n",
       "\n",
       "[1 rows x 48 columns]"
      ]
     },
     "execution_count": 12,
     "metadata": {},
     "output_type": "execute_result"
    }
   ],
   "source": [
    "last_event = event_log[event_log['case:concept:name'] == similar_traces_list[5]].tail(1)\n",
    "\n",
    "# get values of all columns starting with case:Diagnosis\n",
    "diagnosis_columns = [col for col in event_log.columns if col.startswith('case:Diagnosis')]\n",
    "diagnosis_values = last_event[diagnosis_columns]\n",
    "diagnosis_values"
   ]
  },
  {
   "cell_type": "code",
   "execution_count": 13,
   "metadata": {},
   "outputs": [
    {
     "name": "stdout",
     "output_type": "stream",
     "text": [
      "case:Diagnosis code:2\n",
      "0.5704286964129484\n",
      "case:Diagnosis code:1\n",
      "0.5704286964129484\n",
      "case:Diagnosis:2\n",
      "0.5704286964129484\n",
      "case:Diagnosis:1\n",
      "0.5704286964129484\n",
      "case:Diagnosis\n",
      "0.6019247594050744\n",
      "case:Diagnosis Treatment Combination ID\n",
      "0.6019247594050744\n",
      "case:Diagnosis Treatment Combination ID:2\n",
      "0.5704286964129484\n",
      "case:Diagnosis code\n",
      "0.6019247594050744\n",
      "case:Diagnosis Treatment Combination ID:1\n",
      "0.5704286964129484\n",
      "case:Diagnosis code:3\n",
      "0.36395450568678916\n",
      "case:Diagnosis:3\n",
      "0.36395450568678916\n",
      "case:Diagnosis Treatment Combination ID:3\n",
      "0.36395450568678916\n",
      "case:Diagnosis code:4\n",
      "0.10323709536307961\n",
      "case:Diagnosis:4\n",
      "0.10323709536307961\n",
      "case:Diagnosis Treatment Combination ID:4\n",
      "0.10323709536307961\n",
      "case:Diagnosis code:5\n",
      "0.023622047244094488\n",
      "case:Diagnosis:5\n",
      "0.023622047244094488\n",
      "case:Diagnosis Treatment Combination ID:5\n",
      "0.023622047244094488\n",
      "case:Diagnosis code:10\n",
      "0.0017497812773403325\n",
      "case:Diagnosis Treatment Combination ID:10\n",
      "0.0017497812773403325\n",
      "case:Diagnosis:10\n",
      "0.0017497812773403325\n",
      "case:Diagnosis code:9\n",
      "0.0026246719160104987\n",
      "case:Diagnosis code:8\n",
      "0.004374453193350831\n",
      "case:Diagnosis code:7\n",
      "0.005249343832020997\n",
      "case:Diagnosis code:6\n",
      "0.008748906386701663\n",
      "case:Diagnosis:8\n",
      "0.004374453193350831\n",
      "case:Diagnosis:7\n",
      "0.005249343832020997\n",
      "case:Diagnosis:6\n",
      "0.008748906386701663\n",
      "case:Diagnosis:9\n",
      "0.0026246719160104987\n",
      "case:Diagnosis Treatment Combination ID:7\n",
      "0.005249343832020997\n",
      "case:Diagnosis Treatment Combination ID:8\n",
      "0.004374453193350831\n",
      "case:Diagnosis Treatment Combination ID:9\n",
      "0.0026246719160104987\n",
      "case:Diagnosis Treatment Combination ID:6\n",
      "0.008748906386701663\n",
      "case:Diagnosis code:12\n",
      "0.0008748906386701663\n",
      "case:Diagnosis code:11\n",
      "0.0008748906386701663\n",
      "case:Diagnosis Treatment Combination ID:11\n",
      "0.0008748906386701663\n",
      "case:Diagnosis Treatment Combination ID:13\n",
      "0.0008748906386701663\n",
      "case:Diagnosis Treatment Combination ID:12\n",
      "0.0008748906386701663\n",
      "case:Diagnosis Treatment Combination ID:15\n",
      "0.0008748906386701663\n",
      "case:Diagnosis Treatment Combination ID:14\n",
      "0.0008748906386701663\n",
      "case:Diagnosis:15\n",
      "0.0008748906386701663\n",
      "case:Diagnosis:14\n",
      "0.0008748906386701663\n",
      "case:Diagnosis:11\n",
      "0.0008748906386701663\n",
      "case:Diagnosis:13\n",
      "0.0008748906386701663\n",
      "case:Diagnosis:12\n",
      "0.0008748906386701663\n",
      "case:Diagnosis code:14\n",
      "0.0008748906386701663\n",
      "case:Diagnosis code:13\n",
      "0.0008748906386701663\n",
      "case:Diagnosis code:15\n",
      "0.0008748906386701663\n"
     ]
    }
   ],
   "source": [
    "X_cols = ['case:Diagnosis code', 'case:Treatment code']\n",
    "for col in diagnosis_columns:\n",
    "    print(col)\n",
    "    x = event_log.groupby('case:concept:name')[col].last().notna().sum() / event_log['case:concept:name'].nunique()\n",
    "    print(x)"
   ]
  },
  {
   "cell_type": "code",
   "execution_count": 16,
   "metadata": {},
   "outputs": [
    {
     "data": {
      "text/plain": [
       "True"
      ]
     },
     "execution_count": 16,
     "metadata": {},
     "output_type": "execute_result"
    }
   ],
   "source": [
    "y_test = lf_map[running_trace.index[0]]\n",
    "y_test"
   ]
  },
  {
   "cell_type": "markdown",
   "metadata": {},
   "source": [
    "### Visualizations"
   ]
  },
  {
   "cell_type": "code",
   "execution_count": 123,
   "metadata": {},
   "outputs": [],
   "source": [
    "df_list = []\n",
    "for th in range(0, 205, 10):\n",
    "    n_similar_traces = []\n",
    "    for _ in range(50):\n",
    "        running_trace = all_traces.sample(1)\n",
    "        historic_traces = all_traces.drop(running_trace.index)\n",
    "        similar_traces = get_similar_traces(running_trace, historic_traces, threshold=th)\n",
    "        n_similar_traces.append(len(similar_traces))\n",
    "    mean_similar_traces = sum(n_similar_traces) / len(n_similar_traces)\n",
    "    min_similar_traces = min(n_similar_traces)\n",
    "    df_list.append([th, mean_similar_traces, min_similar_traces])\n",
    "\n",
    "df_th = pd.DataFrame(df_list, columns=['Threshold', 'Mean similar traces', 'Min similar traces'])"
   ]
  },
  {
   "cell_type": "code",
   "execution_count": 124,
   "metadata": {},
   "outputs": [
    {
     "data": {
      "text/plain": [
       "<matplotlib.legend.Legend at 0x23075b6a950>"
      ]
     },
     "execution_count": 124,
     "metadata": {},
     "output_type": "execute_result"
    },
    {
     "data": {
      "image/png": "[encoded data removed]",
      "text/plain": [
       "<Figure size 640x480 with 1 Axes>"
      ]
     },
     "metadata": {},
     "output_type": "display_data"
    }
   ],
   "source": [
    "# plot threshold and number of similar traces\n",
    "import matplotlib.pyplot as plt\n",
    "\n",
    "plt.plot(df_th['Threshold'], df_th['Mean similar traces'], label='Mean similar traces')\n",
    "plt.plot(df_th['Threshold'], df_th['Min similar traces'], label='Min similar traces')\n",
    "plt.xlabel('Threshold')\n",
    "plt.ylabel('Number of similar traces')\n",
    "plt.legend()"
   ]
  }
 ],
 "metadata": {
  "kernelspec": {
   "display_name": "base",
   "language": "python",
   "name": "python3"
  },
  "language_info": {
   "codemirror_mode": {
    "name": "ipython",
    "version": 3
   },
   "file_extension": ".py",
   "mimetype": "text/x-python",
   "name": "python",
   "nbconvert_exporter": "python",
   "pygments_lexer": "ipython3",
   "version": "3.11.4"
  }
 },
 "nbformat": 4,
 "nbformat_minor": 2
}

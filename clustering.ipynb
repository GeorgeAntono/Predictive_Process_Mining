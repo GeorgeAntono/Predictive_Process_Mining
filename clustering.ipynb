{
 "cells": [
  {
   "cell_type": "markdown",
   "metadata": {},
   "source": [
    "## Loading the data"
   ]
  },
  {
   "cell_type": "code",
   "execution_count": 13,
   "metadata": {},
   "outputs": [
    {
     "data": {
      "application/vnd.jupyter.widget-view+json": {
       "model_id": "56e28f496f654ac89699c18007484ea9",
       "version_major": 2,
       "version_minor": 0
      },
      "text/plain": [
       "parsing log, completed traces ::   0%|          | 0/1143 [00:00<?, ?it/s]"
      ]
     },
     "metadata": {},
     "output_type": "display_data"
    },
    {
     "name": "stdout",
     "output_type": "stream",
     "text": [
      "Start activities: {'1e consult poliklinisch': 71, 'inwend.geneesk.  korte kaart kosten-out': 8, 'verlosk.-gynaec. korte kaart kosten-out': 198, 'vervolgconsult poliklinisch': 234, 'verlosk.-gynaec.   jaarkaart kosten-out': 122, 'cytologisch onderzoek - ectocervix -': 28, 'echografie  - genitalia interna': 44, 'aanname laboratoriumonderzoek': 225, 'ligdagen - alle spec.beh.kinderg.-reval.': 39, 'telefonisch consult': 15, 'behandeltijd - eenheid t3 - megavolt': 1, 'ct abdomen': 2, 'behandeltijd - eenheid t2 - megavolt': 1, 'thorax': 12, 'e.c.g.      - elektrocardiografie': 63, 'cytologisch onderzoek - vagina -': 12, 'mammografie thoraxwand': 3, 'histologisch onderzoek - biopten nno': 19, 'dagverpleging - alle spec.beh.kind.-rev.': 5, 'inwend.geneesk.    jaarkaart kosten-out': 1, 'coupe ter inzage': 19, 'immunopathologisch onderzoek': 10, 'vagina      - scopie incl.evt.vulvabiops': 3, 'punctie tbv cytologisch onderzoek door p': 3, 'cytologisch onderzoek - buiktumorpunctie': 1, 'vrw.gesl.org- adnex-extirpatie dmv lapar': 1, 'cytologisch onderzoek tbv bevolkingsonde': 1, 'buik        - punctie ascites ontlastend': 1, 'cytologisch onderzoek - endocervix -': 1}\n",
      "End activities: {'ordertarief': 20, '1e consult poliklinisch': 4, 'telefonisch consult': 200, 'vervolgconsult poliklinisch': 365, 'skelet - scintigrafie totale lichaam': 1, 'administratief tarief       - eerste pol': 336, '190101 bovenreg.toesl.  a101': 94, 'teletherapie - megavolt fotonen bestrali': 8, '190035 dagverpleging    a007': 9, '190205 klasse 3b        a205': 42, 'gefiltreerd erytrocytenconcentraat': 6, '190204 klasse 3a        a204': 4, 'mri abdomen': 4, 'paclitaxel': 1, 'echografie a vue ivw zwangerschap - met': 1, 'ct abdomen': 18, 'echo bovenbuik': 2, 'dieet nno': 1, '1e consult      bezoek': 3, 'klinische kaart - verloskunde en gynaeco': 1, 'ligdagen - alle spec.beh.kinderg.-reval.': 1, 'nieren - renografie lasix': 1, 'coupe ter inzage': 4, 'nucleair onderzoek van elders': 1, 'cytologisch onderzoek - endocervix -': 1, 'patient niet verschenen radiologie': 2, 'cito histologisch onderzoek': 3, 'thorax': 1, 'afereseplasma gesplitst fq1 en fq2': 1, 'vrw.gesl.org- adnex-extirpatie dmv lapar': 1, 'hyperthermie': 1, 'histologisch onderzoek - biopten nno': 2, 'echo nieren-urinewegen': 2, 'echo hals --waaronder schildklier--': 1, 'interc.consult klinisch  radiotherapie': 1}\n",
      "                              org:group  Number of executions  \\\n",
      "0                          Radiotherapy                     1   \n",
      "1                          Radiotherapy                     1   \n",
      "2                          Nursing ward                     1   \n",
      "3       Obstetrics & Gynaecology clinic                     1   \n",
      "4                          Nursing ward                     1   \n",
      "...                                 ...                   ...   \n",
      "150286   General Lab Clinical Chemistry                     1   \n",
      "150287   General Lab Clinical Chemistry                     1   \n",
      "150288   General Lab Clinical Chemistry                     1   \n",
      "150289   General Lab Clinical Chemistry                     1   \n",
      "150290   General Lab Clinical Chemistry                     1   \n",
      "\n",
      "        Specialism code                              concept:name  \\\n",
      "0                    61                   1e consult poliklinisch   \n",
      "1                    61  administratief tarief       - eerste pol   \n",
      "2                     7   verlosk.-gynaec. korte kaart kosten-out   \n",
      "3                     7           echografie  - genitalia interna   \n",
      "4                     7                   1e consult poliklinisch   \n",
      "...                 ...                                       ...   \n",
      "150286               86                                   calcium   \n",
      "150287               86                                  albumine   \n",
      "150288               86         screening antistoffen erytrocyten   \n",
      "150289               86     differentiatie leukocyten - handmatig   \n",
      "150290               86                               ordertarief   \n",
      "\n",
      "       Producer code    Section Activity code            time:timestamp  \\\n",
      "0               SRTH  Section 5        410100 2005-01-03 00:00:00+00:00   \n",
      "1               SRTH  Section 5        419100 2005-01-03 00:00:00+00:00   \n",
      "2               SGEH  Section 2         10107 2005-01-05 00:00:00+00:00   \n",
      "3               SGEC  Section 2       339486E 2005-01-05 00:00:00+00:00   \n",
      "4               SGEH  Section 2        410100 2005-01-05 00:00:00+00:00   \n",
      "...              ...        ...           ...                       ...   \n",
      "150286          CHE2  Section 4       377498A 2008-03-20 00:00:00+00:00   \n",
      "150287          CHE2  Section 4       378453A 2008-03-20 00:00:00+00:00   \n",
      "150288          BLOB  Section 4        378607 2008-03-20 00:00:00+00:00   \n",
      "150289          HAEM  Section 4       379000A 2008-03-20 00:00:00+00:00   \n",
      "150290          CRLA  Section 4        379999 2008-03-20 00:00:00+00:00   \n",
      "\n",
      "       lifecycle:transition             case:End date  ...  \\\n",
      "0                  complete 2006-01-04 23:45:36+00:00  ...   \n",
      "1                  complete 2006-01-04 23:45:36+00:00  ...   \n",
      "2                  complete 2006-01-04 23:45:36+00:00  ...   \n",
      "3                  complete 2006-01-04 23:45:36+00:00  ...   \n",
      "4                  complete 2006-01-04 23:45:36+00:00  ...   \n",
      "...                     ...                       ...  ...   \n",
      "150286             complete                       NaT  ...   \n",
      "150287             complete                       NaT  ...   \n",
      "150288             complete                       NaT  ...   \n",
      "150289             complete                       NaT  ...   \n",
      "150290             complete                       NaT  ...   \n",
      "\n",
      "        case:Treatment code:14  case:Treatment code:15  case:Diagnosis:15  \\\n",
      "0                          NaN                     NaN                NaN   \n",
      "1                          NaN                     NaN                NaN   \n",
      "2                          NaN                     NaN                NaN   \n",
      "3                          NaN                     NaN                NaN   \n",
      "4                          NaN                     NaN                NaN   \n",
      "...                        ...                     ...                ...   \n",
      "150286                     NaN                     NaN                NaN   \n",
      "150287                     NaN                     NaN                NaN   \n",
      "150288                     NaN                     NaN                NaN   \n",
      "150289                     NaN                     NaN                NaN   \n",
      "150290                     NaN                     NaN                NaN   \n",
      "\n",
      "       case:Diagnosis:14  case:Diagnosis:11 case:Diagnosis:13  \\\n",
      "0                    NaN                NaN               NaN   \n",
      "1                    NaN                NaN               NaN   \n",
      "2                    NaN                NaN               NaN   \n",
      "3                    NaN                NaN               NaN   \n",
      "4                    NaN                NaN               NaN   \n",
      "...                  ...                ...               ...   \n",
      "150286               NaN                NaN               NaN   \n",
      "150287               NaN                NaN               NaN   \n",
      "150288               NaN                NaN               NaN   \n",
      "150289               NaN                NaN               NaN   \n",
      "150290               NaN                NaN               NaN   \n",
      "\n",
      "        case:Diagnosis:12 case:Diagnosis code:14 case:Diagnosis code:13  \\\n",
      "0                     NaN                    NaN                    NaN   \n",
      "1                     NaN                    NaN                    NaN   \n",
      "2                     NaN                    NaN                    NaN   \n",
      "3                     NaN                    NaN                    NaN   \n",
      "4                     NaN                    NaN                    NaN   \n",
      "...                   ...                    ...                    ...   \n",
      "150286                NaN                    NaN                    NaN   \n",
      "150287                NaN                    NaN                    NaN   \n",
      "150288                NaN                    NaN                    NaN   \n",
      "150289                NaN                    NaN                    NaN   \n",
      "150290                NaN                    NaN                    NaN   \n",
      "\n",
      "       case:Diagnosis code:15  \n",
      "0                         NaN  \n",
      "1                         NaN  \n",
      "2                         NaN  \n",
      "3                         NaN  \n",
      "4                         NaN  \n",
      "...                       ...  \n",
      "150286                    NaN  \n",
      "150287                    NaN  \n",
      "150288                    NaN  \n",
      "150289                    NaN  \n",
      "150290                    NaN  \n",
      "\n",
      "[150291 rows x 128 columns]\n"
     ]
    }
   ],
   "source": [
    "import pm4py\n",
    "\n",
    "# import data\n",
    "def import_xes(file_path):\n",
    "    event_log = pm4py.read_xes(file_path)\n",
    "    start_activities = pm4py.get_start_activities(event_log)\n",
    "    end_activities = pm4py.get_end_activities(event_log)\n",
    "    print(\"Start activities: {}\\nEnd activities: {}\".format(start_activities, end_activities))\n",
    "    return event_log\n",
    "\n",
    "event_log = import_xes(\"data/Hospital_log.xes.gz\")\n",
    "print(event_log)"
   ]
  },
  {
   "cell_type": "markdown",
   "metadata": {},
   "source": [
    "## Selecting Top 7 activities"
   ]
  },
  {
   "cell_type": "code",
   "execution_count": 16,
   "metadata": {},
   "outputs": [
    {
     "name": "stdout",
     "output_type": "stream",
     "text": [
      "Top 7 most popular activities: ['aanname laboratoriumonderzoek', 'ligdagen - alle spec.beh.kinderg.-reval.', '190205 klasse 3b        a205', 'ordertarief', '190101 bovenreg.toesl.  a101', 'vervolgconsult poliklinisch', 'kalium potentiometrisch']\n",
      "Top 7 most popular activities code: ['370000', '40014', '613000', '379999', '614400', '411100', '370443']\n"
     ]
    }
   ],
   "source": [
    "# Get the 7 most frequent activities in the 'concept:name' column\n",
    "top_activities = event_log[\"concept:name\"].value_counts().head(7).index.tolist()\n",
    "top_activities_code = event_log[\"Activity code\"].value_counts().head(7).index.tolist()\n",
    "# Display the list of top 7 activities\n",
    "print(\"Top 7 most popular activities:\", top_activities)\n",
    "print(\"Top 7 most popular activities code:\", top_activities_code)\n"
   ]
  },
  {
   "cell_type": "markdown",
   "metadata": {},
   "source": [
    "## Getting all traces"
   ]
  },
  {
   "cell_type": "code",
   "execution_count": 17,
   "metadata": {},
   "outputs": [
    {
     "name": "stdout",
     "output_type": "stream",
     "text": [
      "All traces \n",
      "case:concept:name\n",
      "00000000    [410100, 419100, 10107, 339486E, 410100, 41910...\n",
      "00000001    [10113, 410100, 419100, 10107, 411100, 419100,...\n",
      "00000002    [10113, 411100, 411100, 419100, 411100, 411100...\n",
      "00000003    [10113, 370000, 378149, 379999, 411100, 419100...\n",
      "00000004    [10107, 355201, 370000, 370000, 370000, 370401...\n",
      "                                  ...                        \n",
      "00001138    [339486E, 370000, 370000, 370000, 370401, 3704...\n",
      "00001139    [355111, 370000, 370000, 370401, 370401C, 3704...\n",
      "00001140    [370000, 370000, 370000, 370401, 370401C, 3704...\n",
      "00001141    [330001B, 370000, 370000, 370000, 370401, 3704...\n",
      "00001142    [370000, 370000, 370000, 370401, 370401C, 3704...\n",
      "Name: Activity code, Length: 1143, dtype: object\n"
     ]
    }
   ],
   "source": [
    "# get all traces\n",
    "all_traces = event_log.groupby('case:concept:name')['Activity code'].apply(list)\n",
    "print(\"All traces \")\n",
    "print(all_traces)"
   ]
  },
  {
   "cell_type": "markdown",
   "metadata": {},
   "source": [
    "## We could encode it as according to the section 2.3 from the paper. Please see a portion from section 2.3.1 from the paper\n",
    "\n",
    "#### patterns composed of a single log event. For example, in the scenario in Fig. 1, we can represent the alphabet of the events as an ordered vector L ¼ hA; C; D;M; P; R; S; V i. In this case, trace t1 will be encoded as a vector of frequencies h3; 2; 2; 1; 1; 1; 0; 0i, obtained by replacing each symbol of the alphabet in vector L by its frequency in trace t"
   ]
  },
  {
   "cell_type": "code",
   "execution_count": 19,
   "metadata": {},
   "outputs": [
    {
     "name": "stdout",
     "output_type": "stream",
     "text": [
      "Encoded Traces as Frequency Vectors:\n",
      "                   370000  40014  613000  379999  614400  411100  370443\n",
      "case:concept:name                                                       \n",
      "00000000                8      9       8       5       0       0       2\n",
      "00000001               27     12      12      16      12       6       1\n",
      "00000002                1      0       0       1       0      12       0\n",
      "00000003                1      0       0       1       0      12       0\n",
      "00000004               21     13       0      14      13       8       3\n",
      "...                   ...    ...     ...     ...     ...     ...     ...\n",
      "00001138                3      0       0       1       0       0       1\n",
      "00001139                2      0       0       1       0       0       1\n",
      "00001140                3      0       0       1       0       0       1\n",
      "00001141                3      0       0       1       0       0       1\n",
      "00001142                3      0       0       1       0       0       1\n",
      "\n",
      "[1143 rows x 7 columns]\n"
     ]
    }
   ],
   "source": [
    "import pandas as pd\n",
    "\n",
    "# Identify the top 7 activities\n",
    "top_activities = event_log[\"Activity code\"].value_counts().head(7).index.tolist()\n",
    "\n",
    "# Define a function to encode each trace as a frequency vector\n",
    "def encode_trace(trace, top_activities):\n",
    "    # Count occurrences of each activity in the trace\n",
    "    activity_counts = {activity: trace.count(activity) for activity in top_activities}\n",
    "    # Return the counts as a list in the order of top_activities\n",
    "    return [activity_counts[activity] for activity in top_activities]\n",
    "\n",
    "# Apply this encoding to each trace in all_traces\n",
    "encoded_traces = all_traces.apply(lambda trace: encode_trace(trace, top_activities))\n",
    "\n",
    "# Convert to DataFrame for readability\n",
    "encoded_traces_df = pd.DataFrame(encoded_traces.tolist(), columns=top_activities, index=all_traces.index)\n",
    "\n",
    "# Display the encoded traces\n",
    "print(\"Encoded Traces as Frequency Vectors:\")\n",
    "print(encoded_traces_df)\n"
   ]
  },
  {
   "cell_type": "markdown",
   "metadata": {},
   "source": [
    "## Clustering the traces as vector of occurences"
   ]
  },
  {
   "cell_type": "code",
   "execution_count": 23,
   "metadata": {},
   "outputs": [
    {
     "name": "stdout",
     "output_type": "stream",
     "text": [
      "                   370000  40014  613000  379999  614400  411100  370443  \\\n",
      "case:concept:name                                                          \n",
      "00000000                8      9       8       5       0       0       2   \n",
      "00000001               27     12      12      16      12       6       1   \n",
      "00000002                1      0       0       1       0      12       0   \n",
      "00000003                1      0       0       1       0      12       0   \n",
      "00000004               21     13       0      14      13       8       3   \n",
      "...                   ...    ...     ...     ...     ...     ...     ...   \n",
      "00001138                3      0       0       1       0       0       1   \n",
      "00001139                2      0       0       1       0       0       1   \n",
      "00001140                3      0       0       1       0       0       1   \n",
      "00001141                3      0       0       1       0       0       1   \n",
      "00001142                3      0       0       1       0       0       1   \n",
      "\n",
      "                   Cluster  \n",
      "case:concept:name           \n",
      "00000000                 0  \n",
      "00000001                 1  \n",
      "00000002                 0  \n",
      "00000003                 0  \n",
      "00000004                 0  \n",
      "...                    ...  \n",
      "00001138                 0  \n",
      "00001139                 0  \n",
      "00001140                 0  \n",
      "00001141                 0  \n",
      "00001142                 0  \n",
      "\n",
      "[1143 rows x 8 columns]\n",
      "Occurrences of each K-Means cluster:\n",
      "Cluster\n",
      "0    887\n",
      "1    216\n",
      "2     40\n",
      "Name: count, dtype: int64\n"
     ]
    }
   ],
   "source": [
    "from sklearn.cluster import KMeans\n",
    "\n",
    "# Choose the number of clusters, e.g., K = 5\n",
    "k = 3\n",
    "kmeans = KMeans(n_clusters=k, random_state=42)\n",
    "clusters = kmeans.fit_predict(encoded_traces_df)\n",
    "\n",
    "# Add cluster labels to the original DataFrame\n",
    "encoded_traces_df['Cluster'] = clusters\n",
    "\n",
    "# Display the clusters assigned to each trace\n",
    "print(encoded_traces_df)\n",
    "\n",
    "# Count occurrences of each cluster\n",
    "kmeans_cluster_counts = encoded_traces_df['Cluster'].value_counts()\n",
    "\n",
    "print(\"Occurrences of each K-Means cluster:\")\n",
    "print(kmeans_cluster_counts)"
   ]
  }
 ],
 "metadata": {
  "kernelspec": {
   "display_name": ".venv",
   "language": "python",
   "name": "python3"
  },
  "language_info": {
   "codemirror_mode": {
    "name": "ipython",
    "version": 3
   },
   "file_extension": ".py",
   "mimetype": "text/x-python",
   "name": "python",
   "nbconvert_exporter": "python",
   "pygments_lexer": "ipython3",
   "version": "3.11.5"
  }
 },
 "nbformat": 4,
 "nbformat_minor": 4
}

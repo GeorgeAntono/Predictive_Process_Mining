{
 "cells": [
  {
   "cell_type": "code",
   "execution_count": 1,
   "id": "initial_id",
   "metadata": {
    "collapsed": true,
    "ExecuteTime": {
     "end_time": "2024-10-14T12:13:50.812468400Z",
     "start_time": "2024-10-14T12:13:48.242911600Z"
    }
   },
   "outputs": [],
   "source": [
    "import pm4py"
   ]
  },
  {
   "cell_type": "code",
   "execution_count": 3,
   "outputs": [
    {
     "data": {
      "text/plain": "parsing log, completed traces ::   0%|          | 0/1143 [00:00<?, ?it/s]",
      "application/vnd.jupyter.widget-view+json": {
       "version_major": 2,
       "version_minor": 0,
       "model_id": "8f15ce5c1d3f4a8491691c43b368eb99"
      }
     },
     "metadata": {},
     "output_type": "display_data"
    },
    {
     "name": "stdout",
     "output_type": "stream",
     "text": [
      "Start activities: {'1e consult poliklinisch': 71, 'inwend.geneesk.  korte kaart kosten-out': 8, 'verlosk.-gynaec. korte kaart kosten-out': 198, 'vervolgconsult poliklinisch': 234, 'verlosk.-gynaec.   jaarkaart kosten-out': 122, 'cytologisch onderzoek - ectocervix -': 28, 'echografie  - genitalia interna': 44, 'aanname laboratoriumonderzoek': 225, 'ligdagen - alle spec.beh.kinderg.-reval.': 39, 'telefonisch consult': 15, 'behandeltijd - eenheid t3 - megavolt': 1, 'ct abdomen': 2, 'behandeltijd - eenheid t2 - megavolt': 1, 'thorax': 12, 'e.c.g.      - elektrocardiografie': 63, 'cytologisch onderzoek - vagina -': 12, 'mammografie thoraxwand': 3, 'histologisch onderzoek - biopten nno': 19, 'dagverpleging - alle spec.beh.kind.-rev.': 5, 'inwend.geneesk.    jaarkaart kosten-out': 1, 'coupe ter inzage': 19, 'immunopathologisch onderzoek': 10, 'vagina      - scopie incl.evt.vulvabiops': 3, 'punctie tbv cytologisch onderzoek door p': 3, 'cytologisch onderzoek - buiktumorpunctie': 1, 'vrw.gesl.org- adnex-extirpatie dmv lapar': 1, 'cytologisch onderzoek tbv bevolkingsonde': 1, 'buik        - punctie ascites ontlastend': 1, 'cytologisch onderzoek - endocervix -': 1}\n",
      "End activities: {'ordertarief': 20, '1e consult poliklinisch': 4, 'telefonisch consult': 200, 'vervolgconsult poliklinisch': 365, 'skelet - scintigrafie totale lichaam': 1, 'administratief tarief       - eerste pol': 336, '190101 bovenreg.toesl.  a101': 94, 'teletherapie - megavolt fotonen bestrali': 8, '190035 dagverpleging    a007': 9, '190205 klasse 3b        a205': 42, 'gefiltreerd erytrocytenconcentraat': 6, '190204 klasse 3a        a204': 4, 'mri abdomen': 4, 'paclitaxel': 1, 'echografie a vue ivw zwangerschap - met': 1, 'ct abdomen': 18, 'echo bovenbuik': 2, 'dieet nno': 1, '1e consult      bezoek': 3, 'klinische kaart - verloskunde en gynaeco': 1, 'ligdagen - alle spec.beh.kinderg.-reval.': 1, 'nieren - renografie lasix': 1, 'coupe ter inzage': 4, 'nucleair onderzoek van elders': 1, 'cytologisch onderzoek - endocervix -': 1, 'patient niet verschenen radiologie': 2, 'cito histologisch onderzoek': 3, 'thorax': 1, 'afereseplasma gesplitst fq1 en fq2': 1, 'vrw.gesl.org- adnex-extirpatie dmv lapar': 1, 'hyperthermie': 1, 'histologisch onderzoek - biopten nno': 2, 'echo nieren-urinewegen': 2, 'echo hals --waaronder schildklier--': 1, 'interc.consult klinisch  radiotherapie': 1}\n"
     ]
    }
   ],
   "source": [
    "def import_xes(file_path):\n",
    "    event_log = pm4py.read_xes(file_path)\n",
    "    start_activities = pm4py.get_start_activities(event_log)\n",
    "    end_activities = pm4py.get_end_activities(event_log)\n",
    "    print(\"Start activities: {}\\nEnd activities: {}\".format(start_activities, end_activities))\n",
    "    return event_log\n",
    "\n",
    "event_log=import_xes(\"data/Hospital_log.xes.gz\")"
   ],
   "metadata": {
    "collapsed": false,
    "ExecuteTime": {
     "end_time": "2024-10-14T12:20:47.865554600Z",
     "start_time": "2024-10-14T12:20:30.152493800Z"
    }
   },
   "id": "e74011cf6626fb76"
  },
  {
   "cell_type": "code",
   "execution_count": null,
   "outputs": [],
   "source": [
    "dfg,start_active,end_active = pm4py.discover_dfg(event_log)\n",
    "pm4py.view_dfg(dfg, start_activities=start_active, end_activities=end_active)"
   ],
   "metadata": {
    "collapsed": false,
    "is_executing": true,
    "ExecuteTime": {
     "start_time": "2024-10-14T12:20:51.085255200Z"
    }
   },
   "id": "2e477dd811814bf9"
  },
  {
   "cell_type": "code",
   "execution_count": null,
   "outputs": [],
   "source": [],
   "metadata": {
    "collapsed": false
   },
   "id": "7f26621cc113d688"
  }
 ],
 "metadata": {
  "kernelspec": {
   "display_name": "Python 3",
   "language": "python",
   "name": "python3"
  },
  "language_info": {
   "codemirror_mode": {
    "name": "ipython",
    "version": 2
   },
   "file_extension": ".py",
   "mimetype": "text/x-python",
   "name": "python",
   "nbconvert_exporter": "python",
   "pygments_lexer": "ipython2",
   "version": "2.7.6"
  }
 },
 "nbformat": 4,
 "nbformat_minor": 5
}
